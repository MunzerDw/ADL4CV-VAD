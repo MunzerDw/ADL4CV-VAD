{
 "cells": [
  {
   "cell_type": "code",
   "execution_count": null,
   "metadata": {},
   "outputs": [],
   "source": [
    "from skimage.measure import marching_cubes\n",
    "from util.visualization import visualize_mesh\n",
    "from scripts.visualize import visualize_ad, visualize_vad_norm, visualize_vad_norm, visualize_interpolation_ad, visualize_latent_space\n",
    "from scripts.evaluate import generate_samples"
   ]
  },
  {
   "cell_type": "code",
   "execution_count": null,
   "metadata": {},
   "outputs": [],
   "source": [
    "#########################\n",
    "#                       #\n",
    "#    SHAPE SYNTHESIS    #\n",
    "#                       #\n",
    "#########################"
   ]
  },
  {
   "cell_type": "code",
   "execution_count": null,
   "metadata": {},
   "outputs": [],
   "source": [
    "# this inputs a random generated vector (normal distribution) into a variational model and visualizes the generated shape\n",
    "experiment = \"\" # TODO: write the name of an experiment of a variational model\n",
    "visualize_vad_norm(experiment)"
   ]
  },
  {
   "cell_type": "code",
   "execution_count": null,
   "metadata": {},
   "outputs": [],
   "source": [
    "# generate n new samples\n",
    "n = 50\n",
    "samples = generate_samples(experiment, n)\n",
    "samples = samples.squeeze(1)"
   ]
  },
  {
   "cell_type": "code",
   "execution_count": null,
   "metadata": {},
   "outputs": [],
   "source": [
    "# visualize generated sample at index\n",
    "index = 0\n",
    "input_mesh = marching_cubes(samples[index].cpu().detach().numpy(), level=1)\n",
    "visualize_mesh(input_mesh[0], input_mesh[1], flip_axes=True)"
   ]
  },
  {
   "cell_type": "code",
   "execution_count": null,
   "metadata": {},
   "outputs": [],
   "source": [
    "#########################################\n",
    "#                                       #\n",
    "#    INTER/INTRA-CLASS INTERPOLATION    #\n",
    "#                                       #\n",
    "#########################################"
   ]
  },
  {
   "cell_type": "code",
   "execution_count": null,
   "metadata": {},
   "outputs": [],
   "source": [
    "# visualize 2D latent space of trained latent codes of a non-variational model\n",
    "experiment = \"\" # TODO: write the name of an experiment of a non-variational model\n",
    "visualize_latent_space(experiment, [58, 17])"
   ]
  },
  {
   "cell_type": "code",
   "execution_count": null,
   "metadata": {},
   "outputs": [],
   "source": [
    "# visualize reconstructed shape at index\n",
    "index = 0\n",
    "visualize_ad(experiment, index)"
   ]
  },
  {
   "cell_type": "code",
   "execution_count": null,
   "metadata": {},
   "outputs": [],
   "source": [
    "# interpolate within the latent codes of an experiment\n",
    "index1 = 0\n",
    "index2 = 1\n",
    "a1 = 0.58 # weights for the interpolation\n",
    "a2 = 1 - a1\n",
    "# visualize interpolated shape\n",
    "visualize_interpolation_ad(experiment, index1, index2, a1, a2)\n",
    "# visualize parent shapes\n",
    "visualize_ad(experiment, index1)\n",
    "visualize_ad(experiment, index2)"
   ]
  }
 ],
 "metadata": {
  "interpreter": {
   "hash": "8edcb304c74d7de69396267fdd221ef1d3cdc7db9124f1020d58ca6af5038c14"
  },
  "kernelspec": {
   "display_name": "Python 3.10.4 ('adl4cv')",
   "language": "python",
   "name": "python3"
  },
  "language_info": {
   "codemirror_mode": {
    "name": "ipython",
    "version": 3
   },
   "file_extension": ".py",
   "mimetype": "text/x-python",
   "name": "python",
   "nbconvert_exporter": "python",
   "pygments_lexer": "ipython3",
   "version": "3.10.4"
  },
  "orig_nbformat": 4
 },
 "nbformat": 4,
 "nbformat_minor": 2
}

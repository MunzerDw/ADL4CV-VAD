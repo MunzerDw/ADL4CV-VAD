{
 "cells": [
  {
   "cell_type": "code",
   "execution_count": 1,
   "id": "e44551f7",
   "metadata": {},
   "outputs": [],
   "source": [
    "from pathlib import Path\n",
    "import numpy as np\n",
    "import matplotlib as plt\n",
    "import k3d\n",
    "import trimesh\n",
    "import torch\n",
    "import skimage"
   ]
  },
  {
   "cell_type": "code",
   "execution_count": 2,
   "id": "7c1d054d",
   "metadata": {},
   "outputs": [
    {
     "data": {
      "text/plain": [
       "'NVIDIA GeForce RTX 3070 Laptop GPU'"
      ]
     },
     "execution_count": 2,
     "metadata": {},
     "output_type": "execute_result"
    }
   ],
   "source": [
    "torch.cuda.is_available()\n",
    "torch.cuda.get_device_name(0)"
   ]
  },
  {
   "cell_type": "code",
   "execution_count": 3,
   "id": "ec1c87a0",
   "metadata": {},
   "outputs": [],
   "source": [
    "from model.deepsdf import DeepSDFDecoder\n",
    "from util.model import summarize_model\n",
    "from training import train_deepsdf\n",
    "from data.shape_implicit import ShapeImplicit\n",
    "from util.visualization import visualize_mesh, visualize_pointcloud"
   ]
  },
  {
   "cell_type": "code",
   "execution_count": 4,
   "id": "05489bc5",
   "metadata": {},
   "outputs": [
    {
     "name": "stdout",
     "output_type": "stream",
     "text": [
      "4000\n"
     ]
    }
   ],
   "source": [
    "from data.shape_implicit import ShapeImplicit\n",
    "\n",
    "train_dataset = ShapeImplicit(4000, 'train')\n",
    "val_dataset= ShapeImplicit(4000, 'val')\n",
    "overfit_dataset = ShapeImplicit(4000, 'overfit')\n",
    "print(len(train_dataset[0]['sdf']))\n"
   ]
  },
  {
   "cell_type": "code",
   "execution_count": 5,
   "id": "f7d63fa7",
   "metadata": {},
   "outputs": [
    {
     "name": "stdout",
     "output_type": "stream",
     "text": [
      "   | Name      | Type           | Params \n",
      "-----------------------------------------------\n",
      "0  | layer1    | Sequential     | 790010 \n",
      "1  | layer1.0  | Linear         | 133632 \n",
      "2  | layer1.1  | Dropout        | 0      \n",
      "3  | layer1.2  | ReLU           | 0      \n",
      "4  | layer1.3  | Linear         | 263168 \n",
      "5  | layer1.4  | Dropout        | 0      \n",
      "6  | layer1.5  | ReLU           | 0      \n",
      "7  | layer1.6  | Linear         | 263168 \n",
      "8  | layer1.7  | Dropout        | 0      \n",
      "9  | layer1.8  | ReLU           | 0      \n",
      "10 | layer1.9  | Linear         | 130042 \n",
      "11 | layer1.10 | Dropout        | 0      \n",
      "12 | layer1.11 | ReLU           | 0      \n",
      "13 | layer2    | Sequential     | 1053186\n",
      "14 | layer2.0  | Linear         | 263168 \n",
      "15 | layer2.1  | Dropout        | 0      \n",
      "16 | layer2.2  | ReLU           | 0      \n",
      "17 | layer2.3  | Linear         | 263168 \n",
      "18 | layer2.4  | Dropout        | 0      \n",
      "19 | layer2.5  | ReLU           | 0      \n",
      "20 | layer2.6  | Linear         | 263168 \n",
      "21 | layer2.7  | Dropout        | 0      \n",
      "22 | layer2.8  | ReLU           | 0      \n",
      "23 | layer2.9  | Linear         | 263168 \n",
      "24 | layer2.10 | Dropout        | 0      \n",
      "25 | layer2.11 | ReLU           | 0      \n",
      "26 | layer2.12 | Linear         | 514    \n",
      "27 | TOTAL     | DeepSDFDecoder | 1843196\n",
      "\n",
      "Output tensor shape:  torch.Size([4096, 1])\n",
      "\n",
      "Number of traininable params: 1.84M\n"
     ]
    }
   ],
   "source": [
    "\n",
    "deepsdf = DeepSDFDecoder(latent_size=256)\n",
    "print(summarize_model(deepsdf))\n",
    "\n",
    "# input to the network is a concatenation of point coordinates (3) and the latent code (256 in this example);\n",
    "# here we use a batch of 4096 points\n",
    "input_tensor = torch.randn(4096, 3 + 256)\n",
    "predictions = deepsdf(input_tensor)\n",
    "\n",
    "print('\\nOutput tensor shape: ', predictions.shape)  # expected output: 4096, 1\n",
    "\n",
    "num_trainable_params = sum(p.numel() for p in deepsdf.parameters() if p.requires_grad) / 1e6\n",
    "print(f'\\nNumber of traininable params: {num_trainable_params:.2f}M')  # expected output: ~1.8M"
   ]
  },
  {
   "cell_type": "code",
   "execution_count": 5,
   "id": "53d5a1e9",
   "metadata": {},
   "outputs": [
    {
     "name": "stdout",
     "output_type": "stream",
     "text": [
      "Using device: cuda:0\n",
      "[049/00000] train_loss: 0.038085\n",
      "[099/00000] train_loss: 0.024551\n",
      "[149/00000] train_loss: 0.017208\n",
      "[199/00000] train_loss: 0.013007\n",
      "[249/00000] train_loss: 0.011381\n",
      "[299/00000] train_loss: 0.010379\n",
      "[349/00000] train_loss: 0.009594\n",
      "[399/00000] train_loss: 0.009046\n",
      "[449/00000] train_loss: 0.008606\n",
      "[499/00000] train_loss: 0.008203\n",
      "[549/00000] train_loss: 0.007759\n",
      "[599/00000] train_loss: 0.007510\n",
      "[649/00000] train_loss: 0.007367\n",
      "[699/00000] train_loss: 0.007235\n",
      "[749/00000] train_loss: 0.007095\n",
      "[799/00000] train_loss: 0.006966\n",
      "[849/00000] train_loss: 0.006858\n",
      "[899/00000] train_loss: 0.006739\n",
      "[949/00000] train_loss: 0.006704\n",
      "[999/00000] train_loss: 0.006567\n",
      "[1049/00000] train_loss: 0.006402\n",
      "[1099/00000] train_loss: 0.006352\n",
      "[1149/00000] train_loss: 0.006297\n",
      "[1199/00000] train_loss: 0.006250\n",
      "[1249/00000] train_loss: 0.006198\n",
      "[1299/00000] train_loss: 0.006165\n",
      "[1349/00000] train_loss: 0.006095\n",
      "[1399/00000] train_loss: 0.006054\n",
      "[1449/00000] train_loss: 0.006010\n",
      "[1499/00000] train_loss: 0.005950\n",
      "[1549/00000] train_loss: 0.005900\n",
      "[1599/00000] train_loss: 0.005878\n",
      "[1649/00000] train_loss: 0.005843\n",
      "[1699/00000] train_loss: 0.005817\n",
      "[1749/00000] train_loss: 0.005797\n",
      "[1799/00000] train_loss: 0.005761\n",
      "[1849/00000] train_loss: 0.005741\n",
      "[1899/00000] train_loss: 0.005725\n",
      "[1949/00000] train_loss: 0.005693\n",
      "[1999/00000] train_loss: 0.005664\n"
     ]
    }
   ],
   "source": [
    "\n",
    "\n",
    "overfit_config = {\n",
    "    'experiment_name': '3_2_deepsdf_overfit',\n",
    "    'device': 'cuda:0',  # change this to cpu if you do not have a GPU\n",
    "    'is_overfit': True,\n",
    "    'num_sample_points': 40000,\n",
    "    'latent_code_length': 256,\n",
    "    'batch_size': 16,\n",
    "    'resume_ckpt': None,\n",
    "    'learning_rate_model': 0.0005,\n",
    "    'learning_rate_code': 0.001,\n",
    "    'lambda_code_regularization': 0.0001,\n",
    "    'max_epochs': 2000,\n",
    "    'print_every_n': 50,\n",
    "    'visualize_every_n': 250,\n",
    "}\n",
    "\n",
    "train_deepsdf.main(overfit_config)  # expected loss around 0.0062"
   ]
  },
  {
   "cell_type": "code",
   "execution_count": 6,
   "id": "31b241bf",
   "metadata": {},
   "outputs": [
    {
     "name": "stdout",
     "output_type": "stream",
     "text": [
      "GT\n"
     ]
    },
    {
     "name": "stderr",
     "output_type": "stream",
     "text": [
      "C:\\Users\\baris\\anaconda3\\envs\\adl4cv\\lib\\site-packages\\traittypes\\traittypes.py:97: UserWarning: Given trait value dtype \"uint32\" does not match required type \"uint32\". A coerced copy has been created.\n",
      "  warnings.warn(\n"
     ]
    },
    {
     "data": {
      "application/vnd.jupyter.widget-view+json": {
       "model_id": "c8f8796565c14815bd1144991da0a7f0",
       "version_major": 2,
       "version_minor": 0
      },
      "text/plain": [
       "Output()"
      ]
     },
     "metadata": {},
     "output_type": "display_data"
    },
    {
     "name": "stdout",
     "output_type": "stream",
     "text": [
      "Overfit\n"
     ]
    },
    {
     "data": {
      "application/vnd.jupyter.widget-view+json": {
       "model_id": "cd370a1e18574ba0b97b836ff0926291",
       "version_major": 2,
       "version_minor": 0
      },
      "text/plain": [
       "Output()"
      ]
     },
     "metadata": {},
     "output_type": "display_data"
    }
   ],
   "source": [
    "# Load and visualize GT mesh of the overfit sample\n",
    "gt_mesh = ShapeImplicit.get_mesh('7e728818848f191bee7d178666aae23d')\n",
    "print('GT')\n",
    "visualize_mesh(gt_mesh.vertices, gt_mesh.faces, flip_axes=True)\n",
    "\n",
    "# Load and visualize reconstructed overfit sample; it's okay if they don't look visually exact, since we don't run \n",
    "# the training too long and have a learning rate decay while training \n",
    "mesh_path = \"runs/3_2_deepsdf_overfit/meshes/01999_000.obj\"\n",
    "overfit_output = trimesh.load(mesh_path)\n",
    "print('Overfit')\n",
    "visualize_mesh(overfit_output.vertices, overfit_output.faces, flip_axes=True)"
   ]
  },
  {
   "cell_type": "code",
   "execution_count": 6,
   "id": "4773b00e",
   "metadata": {},
   "outputs": [
    {
     "name": "stdout",
     "output_type": "stream",
     "text": [
      "Using device: cuda:0\n",
      "[000/00049] train_loss: 0.038442\n",
      "[000/00099] train_loss: 0.035935\n",
      "[000/00149] train_loss: 0.033375\n",
      "[000/00199] train_loss: 0.033340\n",
      "[000/00249] train_loss: 0.032919\n",
      "[000/00299] train_loss: 0.032582\n",
      "[000/00349] train_loss: 0.033365\n",
      "[000/00399] train_loss: 0.031029\n",
      "[000/00449] train_loss: 0.032137\n",
      "[000/00499] train_loss: 0.030671\n",
      "[000/00549] train_loss: 0.031336\n",
      "[000/00599] train_loss: 0.032829\n",
      "[000/00649] train_loss: 0.031796\n",
      "[000/00699] train_loss: 0.032844\n",
      "[000/00749] train_loss: 0.031459\n",
      "[000/00799] train_loss: 0.031331\n",
      "[000/00849] train_loss: 0.032159\n",
      "[000/00899] train_loss: 0.030964\n",
      "[000/00949] train_loss: 0.032007\n",
      "[000/00999] train_loss: 0.033122\n",
      "[000/01049] train_loss: 0.031459\n",
      "[000/01099] train_loss: 0.031270\n",
      "[000/01149] train_loss: 0.032139\n",
      "[000/01199] train_loss: 0.031048\n",
      "[001/00023] train_loss: 0.031830\n",
      "[001/00073] train_loss: 0.032459\n",
      "[001/00123] train_loss: 0.031237\n",
      "[001/00173] train_loss: 0.030809\n",
      "[001/00223] train_loss: 0.030694\n",
      "[001/00273] train_loss: 0.030893\n",
      "[001/00323] train_loss: 0.031369\n",
      "[001/00373] train_loss: 0.030377\n",
      "[001/00423] train_loss: 0.029839\n",
      "[001/00473] train_loss: 0.029747\n",
      "[001/00523] train_loss: 0.030789\n",
      "[001/00573] train_loss: 0.031745\n",
      "[001/00623] train_loss: 0.031660\n",
      "[001/00673] train_loss: 0.029712\n",
      "[001/00723] train_loss: 0.030220\n",
      "[001/00773] train_loss: 0.030241\n",
      "[001/00823] train_loss: 0.031500\n",
      "[001/00873] train_loss: 0.031146\n",
      "[001/00923] train_loss: 0.030319\n",
      "[001/00973] train_loss: 0.031335\n",
      "[001/01023] train_loss: 0.030745\n",
      "[001/01073] train_loss: 0.030691\n",
      "[001/01123] train_loss: 0.030537\n",
      "[001/01173] train_loss: 0.029853\n"
     ]
    },
    {
     "ename": "KeyboardInterrupt",
     "evalue": "",
     "output_type": "error",
     "traceback": [
      "\u001b[1;31m---------------------------------------------------------------------------\u001b[0m",
      "\u001b[1;31mKeyboardInterrupt\u001b[0m                         Traceback (most recent call last)",
      "Input \u001b[1;32mIn [6]\u001b[0m, in \u001b[0;36m<cell line: 19>\u001b[1;34m()\u001b[0m\n\u001b[0;32m      1\u001b[0m \u001b[38;5;28;01mfrom\u001b[39;00m \u001b[38;5;21;01mtraining\u001b[39;00m \u001b[38;5;28;01mimport\u001b[39;00m train_deepsdf\n\u001b[0;32m      3\u001b[0m generalization_config \u001b[38;5;241m=\u001b[39m {\n\u001b[0;32m      4\u001b[0m     \u001b[38;5;124m'\u001b[39m\u001b[38;5;124mexperiment_name\u001b[39m\u001b[38;5;124m'\u001b[39m: \u001b[38;5;124m'\u001b[39m\u001b[38;5;124m3_2_deepsdf_generalization\u001b[39m\u001b[38;5;124m'\u001b[39m,\n\u001b[0;32m      5\u001b[0m     \u001b[38;5;124m'\u001b[39m\u001b[38;5;124mdevice\u001b[39m\u001b[38;5;124m'\u001b[39m: \u001b[38;5;124m'\u001b[39m\u001b[38;5;124mcuda:0\u001b[39m\u001b[38;5;124m'\u001b[39m,  \u001b[38;5;66;03m# run this on a gpu for a reasonable training time\u001b[39;00m\n\u001b[1;32m   (...)\u001b[0m\n\u001b[0;32m     16\u001b[0m     \u001b[38;5;124m'\u001b[39m\u001b[38;5;124mvisualize_every_n\u001b[39m\u001b[38;5;124m'\u001b[39m: \u001b[38;5;241m5000\u001b[39m,\n\u001b[0;32m     17\u001b[0m }\n\u001b[1;32m---> 19\u001b[0m \u001b[43mtrain_deepsdf\u001b[49m\u001b[38;5;241;43m.\u001b[39;49m\u001b[43mmain\u001b[49m\u001b[43m(\u001b[49m\u001b[43mgeneralization_config\u001b[49m\u001b[43m)\u001b[49m\n",
      "File \u001b[1;32m~\\Desktop\\excercises\\adl4cv\\deepSDF\\training\\train_deepsdf.py:166\u001b[0m, in \u001b[0;36mmain\u001b[1;34m(config)\u001b[0m\n\u001b[0;32m    163\u001b[0m Path(\u001b[38;5;124mf\u001b[39m\u001b[38;5;124m'\u001b[39m\u001b[38;5;124m/runs/\u001b[39m\u001b[38;5;132;01m{\u001b[39;00mconfig[\u001b[38;5;124m\"\u001b[39m\u001b[38;5;124mexperiment_name\u001b[39m\u001b[38;5;124m\"\u001b[39m]\u001b[38;5;132;01m}\u001b[39;00m\u001b[38;5;124m'\u001b[39m)\u001b[38;5;241m.\u001b[39mmkdir(exist_ok\u001b[38;5;241m=\u001b[39m\u001b[38;5;28;01mTrue\u001b[39;00m, parents\u001b[38;5;241m=\u001b[39m\u001b[38;5;28;01mTrue\u001b[39;00m)\n\u001b[0;32m    165\u001b[0m \u001b[38;5;66;03m# Start training\u001b[39;00m\n\u001b[1;32m--> 166\u001b[0m \u001b[43mtrain\u001b[49m\u001b[43m(\u001b[49m\u001b[43mmodel\u001b[49m\u001b[43m,\u001b[49m\u001b[43m \u001b[49m\u001b[43mlatent_vectors\u001b[49m\u001b[43m,\u001b[49m\u001b[43m \u001b[49m\u001b[43mtrain_dataloader\u001b[49m\u001b[43m,\u001b[49m\u001b[43m \u001b[49m\u001b[43mdevice\u001b[49m\u001b[43m,\u001b[49m\u001b[43m \u001b[49m\u001b[43mconfig\u001b[49m\u001b[43m)\u001b[49m\n",
      "File \u001b[1;32m~\\Desktop\\excercises\\adl4cv\\deepSDF\\training\\train_deepsdf.py:43\u001b[0m, in \u001b[0;36mtrain\u001b[1;34m(model, latent_vectors, train_dataloader, device, config)\u001b[0m\n\u001b[0;32m     39\u001b[0m best_loss \u001b[38;5;241m=\u001b[39m \u001b[38;5;28mfloat\u001b[39m(\u001b[38;5;124m'\u001b[39m\u001b[38;5;124minf\u001b[39m\u001b[38;5;124m'\u001b[39m)\n\u001b[0;32m     41\u001b[0m \u001b[38;5;28;01mfor\u001b[39;00m epoch \u001b[38;5;129;01min\u001b[39;00m \u001b[38;5;28mrange\u001b[39m(config[\u001b[38;5;124m'\u001b[39m\u001b[38;5;124mmax_epochs\u001b[39m\u001b[38;5;124m'\u001b[39m]):\n\u001b[1;32m---> 43\u001b[0m     \u001b[38;5;28;01mfor\u001b[39;00m batch_idx, batch \u001b[38;5;129;01min\u001b[39;00m \u001b[38;5;28menumerate\u001b[39m(train_dataloader):\n\u001b[0;32m     44\u001b[0m         \u001b[38;5;66;03m# Move batch to device\u001b[39;00m\n\u001b[0;32m     45\u001b[0m         ShapeImplicit\u001b[38;5;241m.\u001b[39mmove_batch_to_device(batch, device)\n\u001b[0;32m     47\u001b[0m         \u001b[38;5;66;03m# TODO: Zero out previously accumulated gradients\u001b[39;00m\n",
      "File \u001b[1;32m~\\anaconda3\\envs\\adl4cv\\lib\\site-packages\\torch\\utils\\data\\dataloader.py:530\u001b[0m, in \u001b[0;36m_BaseDataLoaderIter.__next__\u001b[1;34m(self)\u001b[0m\n\u001b[0;32m    528\u001b[0m \u001b[38;5;28;01mif\u001b[39;00m \u001b[38;5;28mself\u001b[39m\u001b[38;5;241m.\u001b[39m_sampler_iter \u001b[38;5;129;01mis\u001b[39;00m \u001b[38;5;28;01mNone\u001b[39;00m:\n\u001b[0;32m    529\u001b[0m     \u001b[38;5;28mself\u001b[39m\u001b[38;5;241m.\u001b[39m_reset()\n\u001b[1;32m--> 530\u001b[0m data \u001b[38;5;241m=\u001b[39m \u001b[38;5;28;43mself\u001b[39;49m\u001b[38;5;241;43m.\u001b[39;49m\u001b[43m_next_data\u001b[49m\u001b[43m(\u001b[49m\u001b[43m)\u001b[49m\n\u001b[0;32m    531\u001b[0m \u001b[38;5;28mself\u001b[39m\u001b[38;5;241m.\u001b[39m_num_yielded \u001b[38;5;241m+\u001b[39m\u001b[38;5;241m=\u001b[39m \u001b[38;5;241m1\u001b[39m\n\u001b[0;32m    532\u001b[0m \u001b[38;5;28;01mif\u001b[39;00m \u001b[38;5;28mself\u001b[39m\u001b[38;5;241m.\u001b[39m_dataset_kind \u001b[38;5;241m==\u001b[39m _DatasetKind\u001b[38;5;241m.\u001b[39mIterable \u001b[38;5;129;01mand\u001b[39;00m \\\n\u001b[0;32m    533\u001b[0m         \u001b[38;5;28mself\u001b[39m\u001b[38;5;241m.\u001b[39m_IterableDataset_len_called \u001b[38;5;129;01mis\u001b[39;00m \u001b[38;5;129;01mnot\u001b[39;00m \u001b[38;5;28;01mNone\u001b[39;00m \u001b[38;5;129;01mand\u001b[39;00m \\\n\u001b[0;32m    534\u001b[0m         \u001b[38;5;28mself\u001b[39m\u001b[38;5;241m.\u001b[39m_num_yielded \u001b[38;5;241m>\u001b[39m \u001b[38;5;28mself\u001b[39m\u001b[38;5;241m.\u001b[39m_IterableDataset_len_called:\n",
      "File \u001b[1;32m~\\anaconda3\\envs\\adl4cv\\lib\\site-packages\\torch\\utils\\data\\dataloader.py:570\u001b[0m, in \u001b[0;36m_SingleProcessDataLoaderIter._next_data\u001b[1;34m(self)\u001b[0m\n\u001b[0;32m    568\u001b[0m \u001b[38;5;28;01mdef\u001b[39;00m \u001b[38;5;21m_next_data\u001b[39m(\u001b[38;5;28mself\u001b[39m):\n\u001b[0;32m    569\u001b[0m     index \u001b[38;5;241m=\u001b[39m \u001b[38;5;28mself\u001b[39m\u001b[38;5;241m.\u001b[39m_next_index()  \u001b[38;5;66;03m# may raise StopIteration\u001b[39;00m\n\u001b[1;32m--> 570\u001b[0m     data \u001b[38;5;241m=\u001b[39m \u001b[38;5;28;43mself\u001b[39;49m\u001b[38;5;241;43m.\u001b[39;49m\u001b[43m_dataset_fetcher\u001b[49m\u001b[38;5;241;43m.\u001b[39;49m\u001b[43mfetch\u001b[49m\u001b[43m(\u001b[49m\u001b[43mindex\u001b[49m\u001b[43m)\u001b[49m  \u001b[38;5;66;03m# may raise StopIteration\u001b[39;00m\n\u001b[0;32m    571\u001b[0m     \u001b[38;5;28;01mif\u001b[39;00m \u001b[38;5;28mself\u001b[39m\u001b[38;5;241m.\u001b[39m_pin_memory:\n\u001b[0;32m    572\u001b[0m         data \u001b[38;5;241m=\u001b[39m _utils\u001b[38;5;241m.\u001b[39mpin_memory\u001b[38;5;241m.\u001b[39mpin_memory(data)\n",
      "File \u001b[1;32m~\\anaconda3\\envs\\adl4cv\\lib\\site-packages\\torch\\utils\\data\\_utils\\fetch.py:49\u001b[0m, in \u001b[0;36m_MapDatasetFetcher.fetch\u001b[1;34m(self, possibly_batched_index)\u001b[0m\n\u001b[0;32m     47\u001b[0m \u001b[38;5;28;01mdef\u001b[39;00m \u001b[38;5;21mfetch\u001b[39m(\u001b[38;5;28mself\u001b[39m, possibly_batched_index):\n\u001b[0;32m     48\u001b[0m     \u001b[38;5;28;01mif\u001b[39;00m \u001b[38;5;28mself\u001b[39m\u001b[38;5;241m.\u001b[39mauto_collation:\n\u001b[1;32m---> 49\u001b[0m         data \u001b[38;5;241m=\u001b[39m [\u001b[38;5;28mself\u001b[39m\u001b[38;5;241m.\u001b[39mdataset[idx] \u001b[38;5;28;01mfor\u001b[39;00m idx \u001b[38;5;129;01min\u001b[39;00m possibly_batched_index]\n\u001b[0;32m     50\u001b[0m     \u001b[38;5;28;01melse\u001b[39;00m:\n\u001b[0;32m     51\u001b[0m         data \u001b[38;5;241m=\u001b[39m \u001b[38;5;28mself\u001b[39m\u001b[38;5;241m.\u001b[39mdataset[possibly_batched_index]\n",
      "File \u001b[1;32m~\\anaconda3\\envs\\adl4cv\\lib\\site-packages\\torch\\utils\\data\\_utils\\fetch.py:49\u001b[0m, in \u001b[0;36m<listcomp>\u001b[1;34m(.0)\u001b[0m\n\u001b[0;32m     47\u001b[0m \u001b[38;5;28;01mdef\u001b[39;00m \u001b[38;5;21mfetch\u001b[39m(\u001b[38;5;28mself\u001b[39m, possibly_batched_index):\n\u001b[0;32m     48\u001b[0m     \u001b[38;5;28;01mif\u001b[39;00m \u001b[38;5;28mself\u001b[39m\u001b[38;5;241m.\u001b[39mauto_collation:\n\u001b[1;32m---> 49\u001b[0m         data \u001b[38;5;241m=\u001b[39m [\u001b[38;5;28;43mself\u001b[39;49m\u001b[38;5;241;43m.\u001b[39;49m\u001b[43mdataset\u001b[49m\u001b[43m[\u001b[49m\u001b[43midx\u001b[49m\u001b[43m]\u001b[49m \u001b[38;5;28;01mfor\u001b[39;00m idx \u001b[38;5;129;01min\u001b[39;00m possibly_batched_index]\n\u001b[0;32m     50\u001b[0m     \u001b[38;5;28;01melse\u001b[39;00m:\n\u001b[0;32m     51\u001b[0m         data \u001b[38;5;241m=\u001b[39m \u001b[38;5;28mself\u001b[39m\u001b[38;5;241m.\u001b[39mdataset[possibly_batched_index]\n",
      "File \u001b[1;32m~\\Desktop\\excercises\\adl4cv\\deepSDF\\data\\shape_implicit.py:46\u001b[0m, in \u001b[0;36mShapeImplicit.__getitem__\u001b[1;34m(self, index)\u001b[0m\n\u001b[0;32m     42\u001b[0m sdf_samples_path \u001b[38;5;241m=\u001b[39m ShapeImplicit\u001b[38;5;241m.\u001b[39mdataset_path \u001b[38;5;241m/\u001b[39m item \u001b[38;5;241m/\u001b[39m \u001b[38;5;124m\"\u001b[39m\u001b[38;5;124msdf.npz\u001b[39m\u001b[38;5;124m\"\u001b[39m\n\u001b[0;32m     44\u001b[0m \u001b[38;5;66;03m# read points and their sdf values from disk\u001b[39;00m\n\u001b[0;32m     45\u001b[0m \u001b[38;5;66;03m# TODO: Implement the method get_sdf_samples\u001b[39;00m\n\u001b[1;32m---> 46\u001b[0m sdf_samples \u001b[38;5;241m=\u001b[39m \u001b[38;5;28;43mself\u001b[39;49m\u001b[38;5;241;43m.\u001b[39;49m\u001b[43mget_sdf_samples\u001b[49m\u001b[43m(\u001b[49m\u001b[43msdf_samples_path\u001b[49m\u001b[43m)\u001b[49m\n\u001b[0;32m     48\u001b[0m points \u001b[38;5;241m=\u001b[39m sdf_samples[:, :\u001b[38;5;241m3\u001b[39m]\n\u001b[0;32m     49\u001b[0m sdf \u001b[38;5;241m=\u001b[39m sdf_samples[:, \u001b[38;5;241m3\u001b[39m:]\n",
      "File \u001b[1;32m~\\Desktop\\excercises\\adl4cv\\deepSDF\\data\\shape_implicit.py:94\u001b[0m, in \u001b[0;36mShapeImplicit.get_sdf_samples\u001b[1;34m(self, path_to_sdf)\u001b[0m\n\u001b[0;32m     92\u001b[0m pos_num_int \u001b[38;5;241m=\u001b[39m \u001b[38;5;28mint\u001b[39m(pos_num[\u001b[38;5;241m0\u001b[39m])\n\u001b[0;32m     93\u001b[0m neg_num_int \u001b[38;5;241m=\u001b[39m \u001b[38;5;28mself\u001b[39m\u001b[38;5;241m.\u001b[39mnum_sample_points \u001b[38;5;241m-\u001b[39m pos_num_int\n\u001b[1;32m---> 94\u001b[0m idx_pos \u001b[38;5;241m=\u001b[39m \u001b[43mnp\u001b[49m\u001b[38;5;241;43m.\u001b[39;49m\u001b[43mrandom\u001b[49m\u001b[38;5;241;43m.\u001b[39;49m\u001b[43mchoice\u001b[49m\u001b[43m(\u001b[49m\u001b[43mnp\u001b[49m\u001b[38;5;241;43m.\u001b[39;49m\u001b[43marange\u001b[49m\u001b[43m(\u001b[49m\u001b[38;5;28;43mlen\u001b[39;49m\u001b[43m(\u001b[49m\u001b[43mpos_tensor\u001b[49m\u001b[43m)\u001b[49m\u001b[43m)\u001b[49m\u001b[43m,\u001b[49m\u001b[43m \u001b[49m\u001b[43mpos_num_int\u001b[49m\u001b[43m,\u001b[49m\u001b[43m \u001b[49m\u001b[43mreplace\u001b[49m\u001b[38;5;241;43m=\u001b[39;49m\u001b[38;5;28;43;01mFalse\u001b[39;49;00m\u001b[43m)\u001b[49m\n\u001b[0;32m     95\u001b[0m idx_neg \u001b[38;5;241m=\u001b[39m np\u001b[38;5;241m.\u001b[39mrandom\u001b[38;5;241m.\u001b[39mchoice(np\u001b[38;5;241m.\u001b[39marange(\u001b[38;5;28mlen\u001b[39m(neg_tensor)), neg_num_int, replace\u001b[38;5;241m=\u001b[39m\u001b[38;5;28;01mFalse\u001b[39;00m)\n\u001b[0;32m     96\u001b[0m \u001b[38;5;28;01mreturn\u001b[39;00m torch\u001b[38;5;241m.\u001b[39mcat([pos_tensor[idx_pos], neg_tensor[idx_neg]],dim\u001b[38;5;241m=\u001b[39m\u001b[38;5;241m0\u001b[39m)\n",
      "\u001b[1;31mKeyboardInterrupt\u001b[0m: "
     ]
    }
   ],
   "source": [
    "from training import train_deepsdf\n",
    "\n",
    "generalization_config = {\n",
    "    'experiment_name': '3_2_deepsdf_generalization',\n",
    "    'device': 'cuda:0',  # run this on a gpu for a reasonable training time\n",
    "    'is_overfit': False,\n",
    "    'num_sample_points': 4096, # you can adjust this such that the model fits on your gpu\n",
    "    'latent_code_length': 256,\n",
    "    'batch_size': 1,\n",
    "    'resume_ckpt': None,\n",
    "    'learning_rate_model': 0.0005,\n",
    "    'learning_rate_code': 0.001,\n",
    "    'lambda_code_regularization': 0.0001,\n",
    "    'max_epochs': 2000,  # not necessary to run for 2000 epochs if you're short on time, at 500 epochs you should start to see reasonable results\n",
    "    'print_every_n': 50,\n",
    "    'visualize_every_n': 5000,\n",
    "}\n",
    "\n",
    "train_deepsdf.main(generalization_config)"
   ]
  },
  {
   "cell_type": "code",
   "execution_count": 4,
   "id": "ef38fae8",
   "metadata": {},
   "outputs": [],
   "source": [
    "from inference.infer_deepsdf import InferenceHandlerDeepSDF\n",
    "\n",
    "device = torch.device('cuda:0') \n",
    "\n",
    "inference_handler = InferenceHandlerDeepSDF(256, \"runs/3_2_deepsdf_generalization\", device)"
   ]
  },
  {
   "cell_type": "code",
   "execution_count": 5,
   "id": "da7de2e7",
   "metadata": {},
   "outputs": [
    {
     "name": "stdout",
     "output_type": "stream",
     "text": [
      "Observations with negative SDF (inside)\n"
     ]
    },
    {
     "data": {
      "application/vnd.jupyter.widget-view+json": {
       "model_id": "2288ad59d26845248f87ad774c1c4ce2",
       "version_major": 2,
       "version_minor": 0
      },
      "text/plain": [
       "Output()"
      ]
     },
     "metadata": {},
     "output_type": "display_data"
    },
    {
     "name": "stdout",
     "output_type": "stream",
     "text": [
      "Observations with positive SDF (outside)\n"
     ]
    },
    {
     "data": {
      "application/vnd.jupyter.widget-view+json": {
       "model_id": "a9f63fc5927741a1b8d97d9fe02b58a9",
       "version_major": 2,
       "version_minor": 0
      },
      "text/plain": [
       "Output()"
      ]
     },
     "metadata": {},
     "output_type": "display_data"
    }
   ],
   "source": [
    "points, sdf = ShapeImplicit.get_all_sdf_samples(\"b351e06f5826444c19fb4103277a6b93\")\n",
    "\n",
    "inside_points = points[sdf[:, 0] < 0, :].numpy()\n",
    "outside_points = points[sdf[:, 0] > 0, :].numpy()\n",
    "\n",
    "# visualize observed points; you'll observe that the observations are very complete\n",
    "print('Observations with negative SDF (inside)')\n",
    "visualize_pointcloud(inside_points, 0.025, flip_axes=True)\n",
    "print('Observations with positive SDF (outside)')\n",
    "visualize_pointcloud(outside_points, 0.025, flip_axes=True)"
   ]
  },
  {
   "cell_type": "code",
   "execution_count": 9,
   "id": "7d079e82",
   "metadata": {},
   "outputs": [
    {
     "name": "stdout",
     "output_type": "stream",
     "text": [
      "tensor([ 3.9678e-03,  1.1214e-01, -4.9493e-02,  7.5664e-02,  6.9372e-02,\n",
      "        -1.7136e-02,  1.0058e-02,  4.1867e-02,  9.4704e-02,  5.0239e-02,\n",
      "         1.7597e-01,  2.9160e-02, -8.6489e-02, -1.1565e-01,  5.1267e-02,\n",
      "         3.7934e-02,  3.7827e-02,  4.0937e-02,  1.2031e-01, -3.3028e-02,\n",
      "        -4.1881e-02,  2.3247e-02,  1.1089e-01,  3.6403e-02,  1.0604e-01,\n",
      "        -8.8085e-02,  8.7894e-02, -1.6806e-02, -3.9747e-02, -2.3614e-02,\n",
      "         2.2089e-02,  2.0699e-02, -8.9851e-04,  1.1043e-02,  5.2559e-03,\n",
      "        -1.0075e-01, -5.9560e-02,  7.6523e-02,  1.9515e-02, -6.3301e-02,\n",
      "         8.8997e-02, -3.8780e-02, -2.9116e-02,  6.6308e-02,  1.4697e-02,\n",
      "        -1.3006e-01, -4.3984e-03,  7.3843e-02, -4.8756e-02,  1.2220e-03,\n",
      "         9.1506e-02,  2.2524e-02,  5.2360e-02, -7.1146e-02,  5.5575e-02,\n",
      "        -6.2527e-02, -6.3008e-03,  9.1550e-02, -1.0216e-01,  6.7139e-02,\n",
      "        -9.1633e-02, -5.6084e-02, -3.0409e-02,  2.8497e-03, -3.0263e-03,\n",
      "        -7.1003e-02,  1.1182e-02, -6.6428e-02, -8.1104e-02,  5.3196e-02,\n",
      "        -2.7798e-03, -2.0527e-01,  4.3455e-02,  7.8402e-02,  3.4616e-02,\n",
      "         1.0232e-02, -8.3537e-02, -3.8853e-02,  2.0422e-02, -5.7494e-02,\n",
      "         5.5868e-02, -5.5983e-02, -5.5839e-02, -4.3528e-02,  1.7135e-02,\n",
      "        -1.1122e-02, -4.4898e-02, -5.3556e-02, -5.0216e-03, -4.5537e-02,\n",
      "         2.1453e-02,  4.1784e-02,  4.7175e-02, -2.4495e-03,  1.5920e-01,\n",
      "         5.1425e-02, -6.4636e-02, -4.8478e-02,  1.1725e-02,  3.2885e-02,\n",
      "        -1.6225e-02, -3.4522e-02,  4.6232e-02, -1.0478e-01,  2.1144e-02,\n",
      "         5.4727e-02, -2.5386e-03,  3.3756e-02,  1.2813e-04,  3.2598e-02,\n",
      "        -3.0630e-02, -6.9033e-02, -6.1412e-02,  2.3145e-02, -5.0459e-02,\n",
      "        -8.4406e-02,  6.1823e-02, -3.0320e-03,  5.7490e-02, -7.0738e-02,\n",
      "        -6.6103e-03, -1.7426e-02, -5.3529e-03, -4.1564e-02, -7.6265e-02,\n",
      "        -8.2032e-02,  4.5902e-03, -4.3736e-02,  6.3902e-02,  6.8466e-02,\n",
      "        -5.0976e-02,  2.7959e-02,  4.8107e-02, -2.6444e-02, -5.7043e-02,\n",
      "        -1.0600e-01, -7.6618e-02, -8.0426e-02, -1.0050e-01, -1.0964e-01,\n",
      "         4.8005e-02, -1.2295e-02, -8.8216e-02, -8.4952e-02,  1.4525e-01,\n",
      "        -6.6367e-02,  6.1191e-02,  5.6381e-02,  3.0604e-02,  5.2657e-02,\n",
      "         3.6844e-02, -3.0620e-02,  1.2644e-03, -1.0668e-01,  6.6265e-02,\n",
      "         4.1321e-03, -3.6784e-02,  3.6083e-02,  2.9830e-02,  5.7472e-02,\n",
      "        -2.3007e-02, -3.0255e-02, -1.4017e-02, -3.4111e-02,  9.1902e-02,\n",
      "        -5.6441e-02,  3.2085e-02,  9.4331e-02,  5.7462e-02,  4.6367e-02,\n",
      "        -1.7328e-03, -1.2912e-02,  4.1090e-02, -3.3557e-02, -7.1355e-02,\n",
      "        -2.2368e-02,  1.0385e-01, -5.0099e-03, -5.6082e-02,  2.9288e-02,\n",
      "         6.0647e-03, -3.6905e-02,  7.6606e-04, -3.1862e-04, -6.8905e-03,\n",
      "        -7.9731e-02,  5.3626e-02,  2.2620e-03,  1.4300e-02, -6.6428e-02,\n",
      "         9.1692e-02, -1.2433e-02, -2.0898e-02,  4.7064e-02,  1.6218e-03,\n",
      "        -1.1894e-02, -4.8949e-03,  2.0265e-02,  4.5736e-02,  3.6753e-02,\n",
      "         1.0824e-02, -9.7783e-03, -4.8234e-02,  4.9635e-03,  6.6546e-02,\n",
      "        -8.0691e-02,  1.0198e-01, -3.0817e-02, -1.6908e-02, -1.3629e-02,\n",
      "         1.1175e-01, -7.3511e-02,  6.4798e-02,  6.4752e-02, -4.2684e-02,\n",
      "        -1.9316e-02,  2.5359e-03, -1.2269e-02, -8.2650e-02,  4.2458e-02,\n",
      "         5.4268e-03, -1.6556e-02, -8.5824e-02,  6.7226e-04, -7.9669e-02,\n",
      "        -1.1517e-02,  1.3003e-02,  1.2752e-01, -5.8362e-02,  9.4876e-02,\n",
      "        -6.1409e-03, -7.4841e-03, -6.5693e-02, -3.0495e-02, -1.6168e-02,\n",
      "         1.4156e-01,  3.6702e-02,  4.4699e-02,  4.3522e-02,  7.7944e-02,\n",
      "        -5.1409e-02, -7.5392e-02,  2.2521e-03,  1.2813e-02, -5.3908e-02,\n",
      "        -5.7353e-02, -8.9870e-02,  1.0116e-02, -1.0432e-02,  1.9445e-02,\n",
      "         8.2125e-02,  1.5553e-03, -1.7998e-03, -5.4634e-02,  1.2365e-01,\n",
      "         6.2061e-02], device='cuda:0')\n"
     ]
    },
    {
     "data": {
      "application/vnd.jupyter.widget-view+json": {
       "model_id": "435f3cdb856a458785029b38dcb91a82",
       "version_major": 2,
       "version_minor": 0
      },
      "text/plain": [
       "Output()"
      ]
     },
     "metadata": {},
     "output_type": "display_data"
    }
   ],
   "source": [
    "from inference.infer_deepsdf import InferenceHandlerDeepSDF\n",
    "\n",
    "device = torch.device('cuda:0') \n",
    "\n",
    "inference_handler = InferenceHandlerDeepSDF(256, \"runs/3_2_deepsdf_generalization\", device)\n",
    "vertices, faces,vector = inference_handler.infer_from_latent_code(5)\n",
    "print(vector)\n",
    "visualize_mesh(vertices, faces, flip_axes=True)"
   ]
  },
  {
   "cell_type": "code",
   "execution_count": 10,
   "id": "48b11244",
   "metadata": {},
   "outputs": [
    {
     "name": "stdout",
     "output_type": "stream",
     "text": [
      "tensor([ 1.0000e+00,  1.1214e-01, -4.9493e-02,  7.5664e-02,  6.9372e-02,\n",
      "        -1.7136e-02,  1.0058e-02,  4.1867e-02,  9.4704e-02,  5.0239e-02,\n",
      "         1.0000e+00,  2.9160e-02, -8.6489e-02, -1.1565e-01,  5.1267e-02,\n",
      "         3.7934e-02,  3.7827e-02,  4.0937e-02,  1.2031e-01, -3.3028e-02,\n",
      "        -4.1881e-02,  2.3247e-02,  1.1089e-01,  3.6403e-02,  1.0604e-01,\n",
      "        -8.8085e-02,  8.7894e-02, -1.6806e-02, -3.9747e-02, -2.3614e-02,\n",
      "         2.2089e-02,  2.0699e-02, -8.9851e-04,  1.1043e-02,  5.2559e-03,\n",
      "        -1.0075e-01, -5.9560e-02,  7.6523e-02,  1.9515e-02, -6.3301e-02,\n",
      "         8.8997e-02, -3.8780e-02, -2.9116e-02,  6.6308e-02,  1.4697e-02,\n",
      "        -1.3006e-01, -4.3984e-03,  7.3843e-02, -4.8756e-02,  1.2220e-03,\n",
      "         9.1506e-02,  2.2524e-02,  5.2360e-02, -7.1146e-02,  5.5575e-02,\n",
      "        -6.2527e-02, -6.3008e-03,  9.1550e-02, -1.0216e-01,  6.7139e-02,\n",
      "        -9.1633e-02, -5.6084e-02, -3.0409e-02,  2.8497e-03, -3.0263e-03,\n",
      "        -7.1003e-02,  1.1182e-02, -6.6428e-02, -8.1104e-02,  5.3196e-02,\n",
      "        -2.7798e-03, -2.0527e-01,  4.3455e-02,  7.8402e-02,  3.4616e-02,\n",
      "         1.0232e-02, -8.3537e-02, -3.8853e-02,  2.0422e-02, -5.7494e-02,\n",
      "         5.5868e-02, -5.5983e-02, -5.5839e-02, -4.3528e-02,  1.7135e-02,\n",
      "        -1.1122e-02, -4.4898e-02, -5.3556e-02, -5.0216e-03, -4.5537e-02,\n",
      "         2.1453e-02,  4.1784e-02,  4.7175e-02, -2.4495e-03,  1.5920e-01,\n",
      "         5.1425e-02, -6.4636e-02, -4.8478e-02,  1.1725e-02,  3.2885e-02,\n",
      "         1.0000e+00, -3.4522e-02,  4.6232e-02, -1.0478e-01,  2.1144e-02,\n",
      "         5.4727e-02, -2.5386e-03,  3.3756e-02,  1.2813e-04,  3.2598e-02,\n",
      "        -3.0630e-02, -6.9033e-02, -6.1412e-02,  2.3145e-02, -5.0459e-02,\n",
      "        -8.4406e-02,  6.1823e-02, -3.0320e-03,  5.7490e-02, -7.0738e-02,\n",
      "        -6.6103e-03, -1.7426e-02, -5.3529e-03, -4.1564e-02, -7.6265e-02,\n",
      "        -8.2032e-02,  4.5902e-03, -4.3736e-02,  6.3902e-02,  6.8466e-02,\n",
      "        -5.0976e-02,  2.7959e-02,  4.8107e-02, -2.6444e-02, -5.7043e-02,\n",
      "        -1.0600e-01, -7.6618e-02, -8.0426e-02, -1.0050e-01, -1.0964e-01,\n",
      "         4.8005e-02, -1.2295e-02, -8.8216e-02, -8.4952e-02,  1.4525e-01,\n",
      "        -6.6367e-02,  6.1191e-02,  5.6381e-02,  3.0604e-02,  5.2657e-02,\n",
      "         3.6844e-02, -3.0620e-02,  1.2644e-03, -1.0668e-01,  6.6265e-02,\n",
      "         4.1321e-03, -3.6784e-02,  3.6083e-02,  2.9830e-02,  5.7472e-02,\n",
      "        -2.3007e-02, -3.0255e-02, -1.4017e-02, -3.4111e-02,  9.1902e-02,\n",
      "        -5.6441e-02,  3.2085e-02,  9.4331e-02,  5.7462e-02,  4.6367e-02,\n",
      "        -1.7328e-03, -1.2912e-02,  4.1090e-02, -3.3557e-02, -7.1355e-02,\n",
      "        -2.2368e-02,  1.0385e-01, -5.0099e-03, -5.6082e-02,  2.9288e-02,\n",
      "         6.0647e-03, -3.6905e-02,  7.6606e-04, -3.1862e-04, -6.8905e-03,\n",
      "        -7.9731e-02,  5.3626e-02,  2.2620e-03,  1.4300e-02, -6.6428e-02,\n",
      "         9.1692e-02, -1.2433e-02, -2.0898e-02,  4.7064e-02,  1.6218e-03,\n",
      "        -1.1894e-02, -4.8949e-03,  2.0265e-02,  4.5736e-02,  3.6753e-02,\n",
      "         1.0824e-02, -9.7783e-03, -4.8234e-02,  4.9635e-03,  6.6546e-02,\n",
      "        -8.0691e-02,  1.0198e-01, -3.0817e-02, -1.6908e-02, -1.3629e-02,\n",
      "         1.1175e-01, -7.3511e-02,  6.4798e-02,  6.4752e-02, -4.2684e-02,\n",
      "        -1.9316e-02,  2.5359e-03, -1.2269e-02, -8.2650e-02,  4.2458e-02,\n",
      "         5.4268e-03, -1.6556e-02, -8.5824e-02,  6.7226e-04, -7.9669e-02,\n",
      "        -1.1517e-02,  1.3003e-02,  1.2752e-01, -5.8362e-02,  9.4876e-02,\n",
      "        -6.1409e-03, -7.4841e-03, -6.5693e-02, -3.0495e-02, -1.6168e-02,\n",
      "         1.4156e-01,  3.6702e-02,  4.4699e-02,  4.3522e-02,  7.7944e-02,\n",
      "        -5.1409e-02, -7.5392e-02,  2.2521e-03,  1.2813e-02, -5.3908e-02,\n",
      "        -5.7353e-02, -8.9870e-02,  1.0116e-02, -1.0432e-02,  1.9445e-02,\n",
      "         1.0000e+00,  1.5553e-03, -1.7998e-03, -5.4634e-02,  1.2365e-01,\n",
      "         6.2061e-02], device='cuda:0')\n"
     ]
    },
    {
     "data": {
      "application/vnd.jupyter.widget-view+json": {
       "model_id": "979968b164b74e3e9522d2c66621195e",
       "version_major": 2,
       "version_minor": 0
      },
      "text/plain": [
       "Output()"
      ]
     },
     "metadata": {},
     "output_type": "display_data"
    }
   ],
   "source": [
    "change_index = [0,10,100,250]\n",
    "change_value = [1,1,1,1]\n",
    "\n",
    "vertices, faces, sdf = inference_handler.infer_from_latent_code_modify(5 ,change_index, change_value)\n",
    "print(sdf)\n",
    "visualize_mesh(vertices, faces, flip_axes=True)"
   ]
  },
  {
   "cell_type": "code",
   "execution_count": 14,
   "id": "047401cd",
   "metadata": {},
   "outputs": [],
   "source": [
    "vertices, faces, sdf = inference_handler.infer_from_latent_code_random(100)\n",
    "#visualize_mesh(vertices, faces, flip_axes=True)"
   ]
  },
  {
   "cell_type": "code",
   "execution_count": 33,
   "id": "871406f8",
   "metadata": {},
   "outputs": [
    {
     "name": "stdout",
     "output_type": "stream",
     "text": [
      "tensor([ 1.4512, -0.2293,  1.6011,  0.5525, -0.0056,  0.1566,  0.6482,  0.9372,\n",
      "         0.1635,  0.4690,  0.6803, -1.5080,  0.5878,  0.9822,  0.0767, -0.4377,\n",
      "        -0.1356,  0.8706, -0.0089,  0.8198, -0.3117,  1.0769, -0.2785, -0.7350,\n",
      "         0.1414, -1.3675,  0.1254, -0.4071,  1.3408, -1.7143,  0.1022,  0.2672,\n",
      "        -1.5632, -0.0304,  0.0187,  0.7728, -1.2126, -0.4962, -0.5095, -0.1079,\n",
      "        -1.8425, -0.5112, -0.9941,  0.6902, -0.6030, -1.2719,  1.1134, -0.2714,\n",
      "        -0.5084, -2.2681, -0.9738, -0.8521,  0.0044,  0.0542, -0.4011,  0.1988,\n",
      "         0.6645, -0.0876,  0.1539,  0.4829, -0.2615, -2.4983,  2.5437,  0.0434,\n",
      "         0.2490, -0.7489,  0.6086,  0.6153, -0.9611,  1.5126, -0.4777, -2.3318,\n",
      "        -0.1743,  0.8943, -0.5295,  0.3597,  0.0536, -0.9545,  0.1996, -0.3900,\n",
      "         0.2704, -1.4886,  0.2606,  0.3225, -0.8994,  1.2399, -0.4724,  0.3016,\n",
      "         0.5105,  1.1242, -0.1556,  0.2045, -0.2188,  0.8622, -0.7514,  1.2846,\n",
      "        -0.4418, -0.3430,  0.8116,  0.7481, -2.4727,  0.7925,  1.9601,  1.0050,\n",
      "        -0.3383,  1.8705, -0.3046, -0.4201,  2.5685,  0.4602, -0.9565, -0.1206,\n",
      "        -2.0069,  0.0281, -0.2662,  1.3328, -0.4142,  1.1323,  1.0641, -0.6517,\n",
      "        -0.9382,  0.8721,  0.1656, -0.0765,  1.5325, -0.5075,  1.2822, -0.0155,\n",
      "         0.3897, -1.0851,  0.4599, -0.1897,  0.2279, -0.7541, -1.0307, -0.9090,\n",
      "         0.7600, -0.3139,  0.0427, -0.4123,  0.3881, -1.0102,  0.1700, -0.6793,\n",
      "        -2.0143, -0.4153, -1.0962, -0.3553,  0.4854,  1.2766, -1.8920, -0.3578,\n",
      "        -1.8150, -1.0234,  0.6820, -0.4130,  1.4022, -0.0181,  1.1926, -0.2801,\n",
      "        -0.7771,  1.0791,  0.2887, -1.2958, -0.5073,  1.0295, -0.0523, -1.2470,\n",
      "         0.6071, -1.1400, -1.3021,  0.8778,  0.0433, -0.8330,  0.4480,  0.2763,\n",
      "        -0.6978, -0.7292, -0.7960, -1.2010, -3.2372, -0.4834,  0.3373, -0.5916,\n",
      "         0.5823,  1.5078,  0.1445,  0.2467, -0.6218, -0.6015, -1.8349, -1.5572,\n",
      "         0.4062, -1.3385,  0.3982, -0.4942, -0.9337, -1.4504, -1.3474, -0.1828,\n",
      "        -1.1316,  0.0980, -0.0114, -1.2388,  0.4486, -0.9930,  0.3662, -0.2821,\n",
      "        -0.7667,  1.1747,  0.9060, -0.0693,  1.3345, -0.3442,  0.3647,  1.7856,\n",
      "        -0.3339,  0.0054, -0.2169, -0.4325, -0.2788,  0.4085, -1.1561,  0.0851,\n",
      "         0.9381, -0.0104,  0.6524, -0.0130,  1.3196, -2.2761, -0.6523,  1.2972,\n",
      "         0.5862,  1.6937,  0.8653,  0.7507,  0.8819,  0.3389, -0.3794,  0.9668,\n",
      "        -0.6520,  1.4052, -0.1937, -0.6773,  1.6742,  0.2622, -0.2871,  1.6732,\n",
      "        -0.9070,  0.3773,  0.7890,  0.3715, -0.3097,  0.0936,  1.0927,  0.5127])\n"
     ]
    }
   ],
   "source": [
    "print(torch.randn(256 ))"
   ]
  },
  {
   "cell_type": "code",
   "execution_count": 6,
   "id": "00cd11f2",
   "metadata": {},
   "outputs": [
    {
     "name": "stdout",
     "output_type": "stream",
     "text": [
      "[00000] optim_loss: 0.032907\n",
      "[00050] optim_loss: 0.007684\n",
      "[00100] optim_loss: 0.006094\n",
      "[00150] optim_loss: 0.005828\n",
      "[00200] optim_loss: 0.005806\n",
      "[00250] optim_loss: 0.005244\n",
      "[00300] optim_loss: 0.005009\n",
      "[00350] optim_loss: 0.004888\n",
      "[00400] optim_loss: 0.004799\n",
      "[00450] optim_loss: 0.004727\n",
      "[00500] optim_loss: 0.004729\n",
      "[00550] optim_loss: 0.004672\n",
      "[00600] optim_loss: 0.004632\n",
      "[00650] optim_loss: 0.004426\n",
      "[00700] optim_loss: 0.004569\n",
      "[00750] optim_loss: 0.004350\n",
      "Optimization complete.\n"
     ]
    },
    {
     "data": {
      "application/vnd.jupyter.widget-view+json": {
       "model_id": "138ead95d3c944d586b656c87cadfa5e",
       "version_major": 2,
       "version_minor": 0
      },
      "text/plain": [
       "Output()"
      ]
     },
     "metadata": {},
     "output_type": "display_data"
    }
   ],
   "source": [
    "# reconstruct\n",
    "vertices, faces = inference_handler.reconstruct(points, sdf, 800)\n",
    "# visualize\n",
    "visualize_mesh(vertices, faces, flip_axes=True)"
   ]
  },
  {
   "cell_type": "code",
   "execution_count": 7,
   "id": "bcb797ba",
   "metadata": {},
   "outputs": [
    {
     "name": "stdout",
     "output_type": "stream",
     "text": [
      "Observations with negative SDF (inside)\n"
     ]
    },
    {
     "data": {
      "application/vnd.jupyter.widget-view+json": {
       "model_id": "318f6a39ff1d40c1b1da136d3e96b7bf",
       "version_major": 2,
       "version_minor": 0
      },
      "text/plain": [
       "Output()"
      ]
     },
     "metadata": {},
     "output_type": "display_data"
    },
    {
     "name": "stdout",
     "output_type": "stream",
     "text": [
      "Observations with positive SDF (outside)\n"
     ]
    },
    {
     "data": {
      "application/vnd.jupyter.widget-view+json": {
       "model_id": "19b60c8efd1a42df818dfcbf224cff39",
       "version_major": 2,
       "version_minor": 0
      },
      "text/plain": [
       "Output()"
      ]
     },
     "metadata": {},
     "output_type": "display_data"
    }
   ],
   "source": [
    "# get observed data\n",
    "points, sdf = ShapeImplicit.get_all_sdf_samples(\"b351e06f5826444c19fb4103277a6b93_incomplete\")\n",
    "\n",
    "inside_points = points[sdf[:, 0] < 0, :].numpy()\n",
    "outside_points = points[sdf[:, 0] > 0, :].numpy()\n",
    "\n",
    "# visualize observed points; you'll observe that the observations are incomplete\n",
    "# making this is a shape completion task\n",
    "print('Observations with negative SDF (inside)')\n",
    "visualize_pointcloud(inside_points, 0.025, flip_axes=True)\n",
    "print('Observations with positive SDF (outside)')\n",
    "visualize_pointcloud(outside_points, 0.025, flip_axes=True)"
   ]
  },
  {
   "cell_type": "code",
   "execution_count": 8,
   "id": "2f0b8a3c",
   "metadata": {},
   "outputs": [
    {
     "name": "stdout",
     "output_type": "stream",
     "text": [
      "[00000] optim_loss: 0.033109\n",
      "[00050] optim_loss: 0.007933\n",
      "[00100] optim_loss: 0.006220\n",
      "[00150] optim_loss: 0.006176\n",
      "[00200] optim_loss: 0.005622\n",
      "[00250] optim_loss: 0.005707\n",
      "[00300] optim_loss: 0.005166\n",
      "[00350] optim_loss: 0.005123\n",
      "[00400] optim_loss: 0.004846\n",
      "[00450] optim_loss: 0.004587\n",
      "[00500] optim_loss: 0.004600\n",
      "[00550] optim_loss: 0.004557\n",
      "[00600] optim_loss: 0.004522\n",
      "[00650] optim_loss: 0.004315\n",
      "[00700] optim_loss: 0.004458\n",
      "[00750] optim_loss: 0.004181\n",
      "Optimization complete.\n"
     ]
    },
    {
     "data": {
      "application/vnd.jupyter.widget-view+json": {
       "model_id": "60428339ba8a4460bf22af9a23806cc0",
       "version_major": 2,
       "version_minor": 0
      },
      "text/plain": [
       "Output()"
      ]
     },
     "metadata": {},
     "output_type": "display_data"
    }
   ],
   "source": [
    "# reconstruct\n",
    "vertices, faces = inference_handler.reconstruct(points, sdf, 800)\n",
    "# visualize\n",
    "visualize_mesh(vertices, faces, flip_axes=True)"
   ]
  },
  {
   "cell_type": "code",
   "execution_count": null,
   "id": "a54cd428",
   "metadata": {},
   "outputs": [],
   "source": []
  },
  {
   "cell_type": "code",
   "execution_count": 9,
   "id": "f86f2a8d",
   "metadata": {},
   "outputs": [
    {
     "name": "stdout",
     "output_type": "stream",
     "text": [
      "GT Shape A\n"
     ]
    },
    {
     "data": {
      "application/vnd.jupyter.widget-view+json": {
       "model_id": "58fa819fdd2b4df281d43250270c01fa",
       "version_major": 2,
       "version_minor": 0
      },
      "text/plain": [
       "Output()"
      ]
     },
     "metadata": {},
     "output_type": "display_data"
    },
    {
     "name": "stdout",
     "output_type": "stream",
     "text": [
      "GT Shape B\n"
     ]
    },
    {
     "data": {
      "application/vnd.jupyter.widget-view+json": {
       "model_id": "692b3010f1cd4ea8ad55f7ec8371ed1e",
       "version_major": 2,
       "version_minor": 0
      },
      "text/plain": [
       "Output()"
      ]
     },
     "metadata": {},
     "output_type": "display_data"
    }
   ],
   "source": [
    "from data.shape_implicit import ShapeImplicit\n",
    "from util.visualization import visualize_mesh\n",
    "\n",
    "mesh = ShapeImplicit.get_mesh(\"494fe53da65650b8c358765b76c296\")\n",
    "print('GT Shape A')\n",
    "visualize_mesh(mesh.vertices, mesh.faces, flip_axes=True)\n",
    "\n",
    "mesh = ShapeImplicit.get_mesh(\"5ca1ef55ff5f68501921e7a85cf9da35\")\n",
    "print('GT Shape B')\n",
    "visualize_mesh(mesh.vertices, mesh.faces, flip_axes=True)"
   ]
  },
  {
   "cell_type": "code",
   "execution_count": 10,
   "id": "cd890103",
   "metadata": {},
   "outputs": [],
   "source": [
    "from inference.infer_deepsdf import InferenceHandlerDeepSDF\n",
    "\n",
    "inference_handler = InferenceHandlerDeepSDF(256, \"runs/3_2_deepsdf_generalization\", torch.device('cuda:0'))\n",
    "# interpolate; also exports interpolated meshes to disk\n",
    "inference_handler.interpolate('494fe53da65650b8c358765b76c296', '5ca1ef55ff5f68501921e7a85cf9da35', 60)"
   ]
  },
  {
   "cell_type": "code",
   "execution_count": 14,
   "id": "7bf4fe76",
   "metadata": {},
   "outputs": [
    {
     "ename": "ModuleNotFoundError",
     "evalue": "No module named 'pyrender'",
     "output_type": "error",
     "traceback": [
      "\u001b[1;31m---------------------------------------------------------------------------\u001b[0m",
      "\u001b[1;31mModuleNotFoundError\u001b[0m                       Traceback (most recent call last)",
      "Input \u001b[1;32mIn [14]\u001b[0m, in \u001b[0;36m<cell line: 1>\u001b[1;34m()\u001b[0m\n\u001b[1;32m----> 1\u001b[0m \u001b[38;5;28;01mfrom\u001b[39;00m \u001b[38;5;21;01mutil\u001b[39;00m\u001b[38;5;21;01m.\u001b[39;00m\u001b[38;5;21;01mmesh_collection_to_gif\u001b[39;00m \u001b[38;5;28;01mimport\u001b[39;00m  meshes_to_gif\n\u001b[0;32m      2\u001b[0m \u001b[38;5;28;01mfrom\u001b[39;00m \u001b[38;5;21;01mutil\u001b[39;00m\u001b[38;5;21;01m.\u001b[39;00m\u001b[38;5;21;01mmisc\u001b[39;00m \u001b[38;5;28;01mimport\u001b[39;00m show_gif\n\u001b[0;32m      4\u001b[0m \u001b[38;5;66;03m# create list of meshes (just exported) to be visualized\u001b[39;00m\n",
      "File \u001b[1;32m~\\Desktop\\excercises\\adl4cv\\deepSDF\\util\\mesh_collection_to_gif.py:2\u001b[0m, in \u001b[0;36m<module>\u001b[1;34m\u001b[0m\n\u001b[0;32m      1\u001b[0m \u001b[38;5;28;01mimport\u001b[39;00m \u001b[38;5;21;01mnumpy\u001b[39;00m \u001b[38;5;28;01mas\u001b[39;00m \u001b[38;5;21;01mnp\u001b[39;00m\n\u001b[1;32m----> 2\u001b[0m \u001b[38;5;28;01mimport\u001b[39;00m \u001b[38;5;21;01mpyrender\u001b[39;00m\n\u001b[0;32m      3\u001b[0m \u001b[38;5;28;01mimport\u001b[39;00m \u001b[38;5;21;01mtrimesh\u001b[39;00m\n\u001b[0;32m      4\u001b[0m \u001b[38;5;28;01mfrom\u001b[39;00m \u001b[38;5;21;01mmoviepy\u001b[39;00m\u001b[38;5;21;01m.\u001b[39;00m\u001b[38;5;21;01mvideo\u001b[39;00m\u001b[38;5;21;01m.\u001b[39;00m\u001b[38;5;21;01mio\u001b[39;00m\u001b[38;5;21;01m.\u001b[39;00m\u001b[38;5;21;01mImageSequenceClip\u001b[39;00m \u001b[38;5;28;01mimport\u001b[39;00m ImageSequenceClip\n",
      "\u001b[1;31mModuleNotFoundError\u001b[0m: No module named 'pyrender'"
     ]
    }
   ],
   "source": [
    "from util.mesh_collection_to_gif import  meshes_to_gif\n",
    "from util.misc import show_gif\n",
    "\n",
    "# create list of meshes (just exported) to be visualized\n",
    "mesh_paths = sorted([x for x in Path(\"/runs/3_2_deepsdf_generalization/interpolation\").iterdir() if int(x.name.split('.')[0].split(\"_\")[1]) == 0], key=lambda x: int(x.name.split('.')[0].split(\"_\")[0]))\n",
    "mesh_paths = mesh_paths + mesh_paths[::-1]\n",
    "\n",
    "# create a visualization of the interpolation process\n",
    "meshes_to_gif(mesh_paths, \"exercise_3/runs/3_2_deepsdf_generalization/latent_interp.gif\", 20)\n",
    "show_gif(\"exercise_3/runs/3_2_deepsdf_generalization/latent_interp.gif\")"
   ]
  },
  {
   "cell_type": "code",
   "execution_count": null,
   "id": "fe22e95b",
   "metadata": {},
   "outputs": [],
   "source": []
  }
 ],
 "metadata": {
  "kernelspec": {
   "display_name": "Python 3 (ipykernel)",
   "language": "python",
   "name": "python3"
  },
  "language_info": {
   "codemirror_mode": {
    "name": "ipython",
    "version": 3
   },
   "file_extension": ".py",
   "mimetype": "text/x-python",
   "name": "python",
   "nbconvert_exporter": "python",
   "pygments_lexer": "ipython3",
   "version": "3.9.12"
  }
 },
 "nbformat": 4,
 "nbformat_minor": 5
}

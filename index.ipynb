{
 "cells": [
  {
   "cell_type": "code",
   "execution_count": 1,
   "metadata": {},
   "outputs": [],
   "source": [
    "import torch"
   ]
  },
  {
   "cell_type": "code",
   "execution_count": 2,
   "metadata": {},
   "outputs": [
    {
     "name": "stdout",
     "output_type": "stream",
     "text": [
      "   | Name         | Type             | Params  \n",
      "-----------------------------------------------------\n",
      "0  | bottleneck   | Sequential       | 263168  \n",
      "1  | bottleneck.0 | Linear           | 65792   \n",
      "2  | bottleneck.1 | ReLU             | 0       \n",
      "3  | bottleneck.2 | Linear           | 65792   \n",
      "4  | bottleneck.3 | ReLU             | 0       \n",
      "5  | bottleneck.4 | Linear           | 131584  \n",
      "6  | bottleneck.5 | ReLU             | 0       \n",
      "7  | decoder1     | Sequential       | 8389376 \n",
      "8  | decoder1.0   | ConvTranspose3d  | 8388864 \n",
      "9  | decoder1.1   | BatchNorm3d      | 512     \n",
      "10 | decoder1.2   | ReLU             | 0       \n",
      "11 | decoder2     | Sequential       | 2097536 \n",
      "12 | decoder2.0   | ConvTranspose3d  | 2097280 \n",
      "13 | decoder2.1   | BatchNorm3d      | 256     \n",
      "14 | decoder2.2   | ReLU             | 0       \n",
      "15 | decoder3     | Sequential       | 524480  \n",
      "16 | decoder3.0   | ConvTranspose3d  | 524352  \n",
      "17 | decoder3.1   | BatchNorm3d      | 128     \n",
      "18 | decoder3.2   | ReLU             | 0       \n",
      "19 | decoder4     | Sequential       | 4097    \n",
      "20 | decoder4.0   | ConvTranspose3d  | 4097    \n",
      "21 | TOTAL        | ThreeDEPNDecoder | 11278657\n"
     ]
    }
   ],
   "source": [
    "from model.threedepn import ThreeDEPNDecoder\n",
    "from util.model import summarize_model\n",
    "\n",
    "threedepn = ThreeDEPNDecoder()\n",
    "print(summarize_model(threedepn))"
   ]
  },
  {
   "cell_type": "code",
   "execution_count": 3,
   "metadata": {},
   "outputs": [
    {
     "name": "stdout",
     "output_type": "stream",
     "text": [
      "Length of train set: 153540\n",
      "Length of overfit set: 64\n"
     ]
    }
   ],
   "source": [
    "from data.shapenet import ShapeNet\n",
    "\n",
    "# Create a dataset with train split\n",
    "train_dataset = ShapeNet('train')\n",
    "overfit_dataset = ShapeNet('overfit')\n",
    "\n",
    "# Get length, which is a call to __len__ function\n",
    "print(f'Length of train set: {len(train_dataset)}')  # expected output: 153540\n",
    "# Get length, which is a call to __len__ function\n",
    "print(f'Length of overfit set: {len(overfit_dataset)}')  # expected output: 64"
   ]
  },
  {
   "cell_type": "code",
   "execution_count": 4,
   "metadata": {},
   "outputs": [
    {
     "name": "stdout",
     "output_type": "stream",
     "text": [
      "Target DF: (32, 32, 32)\n"
     ]
    },
    {
     "data": {
      "application/vnd.jupyter.widget-view+json": {
       "model_id": "a1e4ae39c2ea4f04aaccce23fb6eb523",
       "version_major": 2,
       "version_minor": 0
      },
      "text/plain": [
       "Output()"
      ]
     },
     "metadata": {},
     "output_type": "display_data"
    }
   ],
   "source": [
    "from util.visualization import visualize_mesh\n",
    "from skimage.measure import marching_cubes\n",
    "\n",
    "sample = overfit_dataset[10]\n",
    "print(f'Target DF: {sample[\"target_df\"].shape}')  # expected output: (32, 32, 32)\n",
    "\n",
    "input_mesh = marching_cubes(sample['target_df'], level=1)\n",
    "visualize_mesh(input_mesh[0], input_mesh[1], flip_axes=True)"
   ]
  },
  {
   "cell_type": "code",
   "execution_count": 5,
   "metadata": {},
   "outputs": [
    {
     "name": "stdout",
     "output_type": "stream",
     "text": [
      "Using CPU\n",
      "Training params: 3\n",
      "[000/00000] train_loss: 0.872897 kl_loss: 0.498834 normal_loss: 0.374063\n",
      "[000/00001] train_loss: 0.656711 kl_loss: 0.491078 normal_loss: 0.165632\n",
      "[001/00000] train_loss: 0.631674 kl_loss: 0.485850 normal_loss: 0.145824\n",
      "[001/00001] train_loss: 0.613973 kl_loss: 0.481223 normal_loss: 0.132750\n"
     ]
    }
   ],
   "source": [
    "from training import train\n",
    "config = {\n",
    "    'experiment_name': 'overfit',\n",
    "    'device': 'cuda:0',  # change this to cpu if you do not have a GPU\n",
    "    'is_overfit': True,\n",
    "    'batch_size': 32,\n",
    "    'resume_ckpt': None,\n",
    "    'learning_rate_model': 0.01,\n",
    "    'learning_rate_code': 0.01,\n",
    "    'learning_rate_log_var':0.01,\n",
    "    'max_epochs': 2,\n",
    "    'print_every_n': 1,\n",
    "    'validate_every_n': 250,\n",
    "    'latent_code_length' : 256,\n",
    "    'vad_free' : True,\n",
    "    'test': False,\n",
    "    'kl_weight': 1\n",
    "\n",
    "}\n",
    "train.main(config)"
   ]
  },
  {
   "cell_type": "code",
   "execution_count": 6,
   "metadata": {},
   "outputs": [
    {
     "name": "stdout",
     "output_type": "stream",
     "text": [
      "Using CPU\n",
      "Loading saved model, latent codes, and latent variances...\n",
      "Training params: 2\n",
      "[000/00000] train_loss: 0.576365 kl_loss: 0.470324 normal_loss: 0.106041\n",
      "[000/00001] train_loss: 0.585577 kl_loss: 0.479289 normal_loss: 0.106288\n",
      "[001/00000] train_loss: 0.576409 kl_loss: 0.470428 normal_loss: 0.105981\n",
      "[001/00001] train_loss: 0.562714 kl_loss: 0.456677 normal_loss: 0.106037\n"
     ]
    }
   ],
   "source": [
    "from training import train\n",
    "config = {\n",
    "    'experiment_name': 'overfit',\n",
    "    'device': 'cuda:0',  # change this to cpu if you do not have a GPU\n",
    "    'is_overfit': True,\n",
    "    'batch_size': 32,\n",
    "    'resume_ckpt': None,\n",
    "    'learning_rate_model': 0.01,\n",
    "    'learning_rate_code': 0.01,\n",
    "    'learning_rate_log_var':0.01,\n",
    "    'max_epochs': 2,\n",
    "    'print_every_n': 1,\n",
    "    'validate_every_n': 250,\n",
    "    'latent_code_length' : 256,\n",
    "    'vad_free' : True,\n",
    "    'test': True,\n",
    "    'kl_weight': 1,\n",
    "    'resume_ckpt': 'overfit'\n",
    "\n",
    "}\n",
    "train.main(config)"
   ]
  },
  {
   "cell_type": "code",
   "execution_count": 7,
   "metadata": {},
   "outputs": [
    {
     "data": {
      "application/vnd.jupyter.widget-view+json": {
       "model_id": "cf38e21dd9ac463b9c239a2f0d983504",
       "version_major": 2,
       "version_minor": 0
      },
      "text/plain": [
       "Output()"
      ]
     },
     "metadata": {},
     "output_type": "display_data"
    }
   ],
   "source": [
    "from util.visualization import visualize_mesh\n",
    "from skimage.measure import marching_cubes\n",
    "import torch.distributions as dist\n",
    "\n",
    "# load model\n",
    "model = ThreeDEPNDecoder()\n",
    "model.load_state_dict(torch.load(f\"runs/{config['experiment_name']}/model_best.ckpt\", map_location='cpu'))\n",
    "\n",
    "# load latent codes and latent variances\n",
    "latent_vectors = torch.load(f\"runs/{config['experiment_name']}/latent_best.pt\", map_location = 'cpu')\n",
    "log_vars = torch.load(f\"runs/{config['experiment_name']}/log_var_best.pt\", map_location = 'cpu')\n",
    "\n",
    "# Create distributions\n",
    "Dist = dist.Normal(latent_vectors[0], torch.exp(log_vars[0]))\n",
    "\n",
    "# Sample\n",
    "x_vad = Dist.rsample().unsqueeze(0)\n",
    "\n",
    "# Forward pass\n",
    "output_meshes = model(x_vad)\n",
    "\n",
    "# Visualize\n",
    "output_mesh = marching_cubes(output_meshes[0].detach().numpy(), level=1)\n",
    "visualize_mesh(output_mesh[0], output_mesh[1], flip_axes=True)"
   ]
  }
 ],
 "metadata": {
  "interpreter": {
   "hash": "ed4ba241db2bd7fdff0e4e773891b91e31df4401ac731abb861e2ca41e0b1ff4"
  },
  "kernelspec": {
   "display_name": "Python 3.10.4 ('deepsdf')",
   "language": "python",
   "name": "python3"
  },
  "language_info": {
   "codemirror_mode": {
    "name": "ipython",
    "version": 3
   },
   "file_extension": ".py",
   "mimetype": "text/x-python",
   "name": "python",
   "nbconvert_exporter": "python",
   "pygments_lexer": "ipython3",
   "version": "3.10.4"
  },
  "orig_nbformat": 4
 },
 "nbformat": 4,
 "nbformat_minor": 2
}
